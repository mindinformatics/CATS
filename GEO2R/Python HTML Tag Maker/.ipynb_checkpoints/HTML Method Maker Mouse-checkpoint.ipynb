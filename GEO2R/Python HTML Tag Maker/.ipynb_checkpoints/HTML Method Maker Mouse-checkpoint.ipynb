{
 "cells": [
  {
   "cell_type": "code",
   "execution_count": 1,
   "metadata": {
    "collapsed": true
   },
   "outputs": [],
   "source": [
    "import csv\n",
    "import pandas as pd\n",
    "import numpy"
   ]
  },
  {
   "cell_type": "code",
   "execution_count": 3,
   "metadata": {
    "collapsed": false
   },
   "outputs": [
    {
     "data": {
      "text/plain": [
       "Index(['DatasetCode', 'DatasetName', 'BrainRegion', 'ClusteredBrainRegion',\n",
       "       'Folder', 'Title', 'HtmlMethod', 'FileName', 'StratFactor',\n",
       "       'Peturbation', 'Contrast', 'Ngenes', 'Nexcluded',\n",
       "       'Subject Distrobution', 'GPL', 'Platform', 'Platform Link',\n",
       "       'Model Description', 'Acknowledgement'],\n",
       "      dtype='object')"
      ]
     },
     "execution_count": 3,
     "metadata": {},
     "output_type": "execute_result"
    }
   ],
   "source": [
    "myFrame=pd.read_excel(\"../Mouse_Analysis_Metadata copy.xlsx\")\n",
    "myFrame.columns"
   ]
  },
  {
   "cell_type": "code",
   "execution_count": 4,
   "metadata": {
    "collapsed": false
   },
   "outputs": [
    {
     "name": "stdout",
     "output_type": "stream",
     "text": [
      "GSE9566_FB_BARRES_ARRAYEXP |  Astrocytes vs Neurons and Oligodendrocytes\n"
     ]
    }
   ],
   "source": [
    "myrow = myFrame[15:16]\n",
    "print(\" \".join([myrow.iloc[0]['DatasetName'], \"| \", myrow.iloc[0]['Contrast'] ] ) )"
   ]
  },
  {
   "cell_type": "code",
   "execution_count": 45,
   "metadata": {
    "collapsed": false
   },
   "outputs": [],
   "source": [
    "stringone=\"<h2>Original dataset</h2><p><b>Type of data:</b> RNASeq <br/><b>Platform:</b>\"\n",
    "platform = \"<a href='https://www.ncbi.nlm.nih.gov/geo/query/acc.cgi?acc=GPL13112'>Illumina HiSeq 2000 (Mus Musculus) </a></br>\"\n",
    "#include hyperlink to the GSE\n",
    "datafile = \"\".join([\"<b> Dataset Code: \", \"<a href='https://www.ncbi.nlm.nih.gov/geo/query/acc.cgi?acc=GSE65159'>\", myrow.iloc[0]['DatasetCode'], \"</a> </b></br>\"])\n",
    "reference = \"\".join([\"<b>Reference article: </b>\", myrow.iloc[0]['Acknowledgement'],\"</p>\" ])\n",
    "Header = \"\".join([stringone,platform,datafile,reference])"
   ]
  },
  {
   "cell_type": "code",
   "execution_count": 46,
   "metadata": {
    "collapsed": false
   },
   "outputs": [],
   "source": [
    "brainregion = \"<h2>Brain region: Hippocampus</h2><p><b>Brodmann Area:</b> NA<br/><b>Clustered brain region:</b>Limbic System</p>\"\n",
    "analysis = \"<h2>Analysis</h2><p><b>Analysis script:</b> DiffExprs.R <br/><b>Description:</b> Analysis was performed by <a href='https://bioconductor.org/packages/release/bioc/html/DESeq2.html'>DESeq2 Package</a>. No prior filtering was performed, neither on variance nor intensity.  </p>\"\n",
    "stratification = \"\".join([\"<h2>Stratification factor: \", myrow.iloc[0]['StratFactor'], \"</h2>\"])\n",
    "stratpara = \"\".join([\"<p><b>Model Description</b>: <a href='http://tsailaboratory.mit.edu/research/'> CKp25 Murine Model</p>\"])\n",
    "#include stuff about the experiment\n",
    "# columns: Contrast, Ngenes, Nexcluded, Subject Distrobution, \n",
    "endpara = \"\".join([\"<h2>Subjects</h2>\",\"<p><b>Compared groups:</b> \",myrow.iloc[0]['Contrast'], \"<br/>\", \"<b>Number of Genes:</b> \", str(myrow.iloc[0]['Ngenes']), \"<br/> <b> Number of Excluded Genes: </b>\",str(myrow.iloc[0]['Nexcluded']),\"<br/> <b>Subject Distrobution:</b> \", myrow.iloc[0]['Subject Distrobution'], \"</p>\"])"
   ]
  },
  {
   "cell_type": "code",
   "execution_count": 101,
   "metadata": {
    "collapsed": false,
    "scrolled": true
   },
   "outputs": [
    {
     "data": {
      "text/plain": [
       "'<h2>Subjects</h2><p><b>Compared groups:</b> CKp25 6 Weeks Old vs CKp25 2 Weeks Old<br/><b>Number of Genes:</b> 16001.0<br/> <b> Number of Excluded Genes: </b>21995.0<br/> <b>Subject Distrobution:</b> CKp25_2wk:3| CKp25_6wk: 3</p>'"
      ]
     },
     "execution_count": 101,
     "metadata": {},
     "output_type": "execute_result"
    }
   ],
   "source": []
  },
  {
   "cell_type": "code",
   "execution_count": 95,
   "metadata": {
    "collapsed": false
   },
   "outputs": [],
   "source": [
    "total = \"\".join([Header, brainregion, analysis, stratification, stratpara])"
   ]
  },
  {
   "cell_type": "code",
   "execution_count": 98,
   "metadata": {
    "collapsed": false
   },
   "outputs": [],
   "source": [
    "#print(total)"
   ]
  },
  {
   "cell_type": "code",
   "execution_count": 113,
   "metadata": {
    "collapsed": true
   },
   "outputs": [],
   "source": [
    "def Tsai(myrow):\n",
    "    stringone=\"<h2>Original dataset</h2><p><b>Type of data:</b> RNASeq <br/><b>Platform:</b>\"\n",
    "    platform = \"<a href='https://www.ncbi.nlm.nih.gov/geo/query/acc.cgi?acc=GPL13112'>Illumina HiSeq 2000 (Mus Musculus) </a></br>\"\n",
    "    #include hyperlink to the GSE\n",
    "    datafile = \"\".join([\"<b> Dataset Code: \", \"<a href='https://www.ncbi.nlm.nih.gov/geo/query/acc.cgi?acc=GSE65159'>\", myrow.iloc[0]['DatasetCode'], \"</a> </b></br>\"])\n",
    "    reference = \"\".join([\"<b>Reference article: </b>\", myrow.iloc[0]['Acknowledgement'],\"</p>\" ])\n",
    "    Header = \"\".join([stringone,platform,datafile,reference])\n",
    "    brainregion = \"<h2>Brain region: Hippocampus</h2><p><b>Clustered brain region:</b>Limbic System</p>\"\n",
    "    analysis = \"<h2>Analysis</h2><p><b>Analysis script:</b> DiffExprs.R <br/><b>Description:</b> Analysis was performed by <a href='https://bioconductor.org/packages/release/bioc/html/DESeq2.html'>DESeq2 Package</a>. No prior filtering was performed, neither on variance nor intensity.  </p>\"\n",
    "    stratification = \"\".join([\"<h2>Stratification factor: \", myrow.iloc[0]['StratFactor'], \"</h2>\"])\n",
    "    stratpara = \"\".join([\"<p><b>Model Description</b>: <a href='http://tsailaboratory.mit.edu/research/'> CKp25 Murine Model</a></p>\"])\n",
    "    endpara = \"\".join([\"<h2>Subjects</h2>\",\"<p><b>Compared groups:</b> \",myrow.iloc[0]['Contrast'], \"<br/>\", \"<b>Number of Genes:</b> \", str(myrow.iloc[0]['Ngenes']), \"<br/> <b> Number of Excluded Genes: </b>\",str(myrow.iloc[0]['Nexcluded']),\"<br/> <b>Subject Distrobution:</b> \",  \" \".join(myrow.iloc[0]['Subject Distrobution'].split(\"|\")), \"</p>\"])\n",
    "    total = \"\".join([Header, brainregion, analysis, stratification, stratpara, endpara])\n",
    "    return total\n",
    "    "
   ]
  },
  {
   "cell_type": "code",
   "execution_count": 9,
   "metadata": {
    "collapsed": false
   },
   "outputs": [
    {
     "data": {
      "text/plain": [
       "Index(['DatasetCode', 'DatasetName', 'BrainRegion', 'ClusteredBrainRegion',\n",
       "       'Folder', 'Title', 'HtmlMethod', 'FileName', 'StratFactor', 'Contrast',\n",
       "       'Ngenes', 'Nexcluded', 'Subject Distrobution', 'GPL', 'Platform',\n",
       "       'Platform Link', 'Model Description', 'Acknowledgement'],\n",
       "      dtype='object')"
      ]
     },
     "execution_count": 9,
     "metadata": {},
     "output_type": "execute_result"
    }
   ],
   "source": [
    "myrow.columns"
   ]
  },
  {
   "cell_type": "code",
   "execution_count": 66,
   "metadata": {
    "collapsed": false
   },
   "outputs": [
    {
     "data": {
      "text/plain": [
       "'DblNeg:17 | TTAalone:15'"
      ]
     },
     "execution_count": 66,
     "metadata": {},
     "output_type": "execute_result"
    }
   ],
   "source": [
    "myrow.iloc[0]['Subject Distrobution']"
   ]
  },
  {
   "cell_type": "code",
   "execution_count": 35,
   "metadata": {
    "collapsed": false
   },
   "outputs": [],
   "source": [
    "def MakeTagMA(myrow):\n",
    "    #constant for everone but Tsai\n",
    "    GenericHeader = \"<h2>Original dataset</h2><p><b>Type of data:</b> Microarray <br/>\"\n",
    "    #need to join elements of every row\n",
    "    GenericPlatform = \"\".join([ \"<b>Platform: </b><a href=\\'https://www.ncbi.nlm.nih.gov/geo/query/acc.cgi?acc=\", \n",
    "                               myrow.iloc[0]['GPL'] , '\\'>', myrow.iloc[0]['Platform'], '</a>', '</br>'])\n",
    "    GenericDataset = \"\".join([\"<b> Dataset Code: <a href='https://www.ncbi.nlm.nih.gov/geo/query/acc.cgi?acc=\", \n",
    "                              myrow.iloc[0]['DatasetCode'], \"\\'>\", myrow.iloc[0]['DatasetCode'], \"</a></b></br>\" ])\n",
    "    GenericReference = \"\".join([\"<b>Reference article: </b>\",myrow.iloc[0]['Acknowledgement'], \"</p>\"])\n",
    "    GenericBrain = \"\".join([\"<p><b>Brain Region</b>: \",myrow.iloc[0]['BrainRegion'], \"</p> <p><b>Clustered brain region: </b>\", \n",
    "                           myrow.iloc[0]['ClusteredBrainRegion'], \"</p>\"])\n",
    "    GenericAnalysis = \"\".join([\"<h2>Analysis</h2><p><b>Analysis script:</b> DiffExprs_\",myrow.iloc[0]['DatasetCode'], \".R </br>\"])\n",
    "    GenericLimma = \"<b>Description:</b> Analysis was performed by <a href='https://bioconductor.org/packages/release/bioc/html/limma.html'>Limma Package</a>. No prior filtering was performed, neither on variance nor intensity.  </p>\"\n",
    "    GenericModel = \"\".join([\"<p><b>Model Description</b>: \", myrow.iloc[0]['Model Description'], \"</p>\"])\n",
    "    GenericSubjects = \"\".join([\"<h2>Subjects</h2><p><b>Compared groups: </b>\", myrow.iloc[0]['Contrast'], \"</br>\" ])\n",
    "    GenericGenes = \"\".join([\"<b>Number of Genes:</b> \", str(int(myrow.iloc[0]['Ngenes'])), \n",
    "                           \"<br/> <b> Number of Excluded Genes: </b>\", str(int(myrow.iloc[0]['Nexcluded'])),\n",
    "                           \"<br/> <b>Subject Distrobution: </b>\", myrow.iloc[0]['Subject Distrobution'], \"</p>\"  ])\n",
    "    \n",
    "    wholecannoli = \"\".join([GenericHeader, GenericPlatform, GenericDataset, \n",
    "                        GenericReference, GenericBrain, GenericAnalysis,GenericLimma,GenericModel,\n",
    "                       GenericSubjects, GenericGenes])\n",
    "    \n",
    "    return(wholecannoli)"
   ]
  },
  {
   "cell_type": "code",
   "execution_count": 11,
   "metadata": {
    "collapsed": false
   },
   "outputs": [
    {
     "data": {
      "text/plain": [
       "Index(['DatasetCode', 'DatasetName', 'BrainRegion', 'ClusteredBrainRegion',\n",
       "       'Folder', 'Title', 'HtmlMethod', 'FileName', 'StratFactor',\n",
       "       'Peturbation', 'Contrast', 'Ngenes', 'Nexcluded',\n",
       "       'Subject Distrobution', 'GPL', 'Platform', 'Platform Link',\n",
       "       'Model Description', 'Acknowledgement'],\n",
       "      dtype='object')"
      ]
     },
     "execution_count": 11,
     "metadata": {},
     "output_type": "execute_result"
    }
   ],
   "source": [
    "myrow = myFrame[0:1]\n",
    "myFrame.columns"
   ]
  },
  {
   "cell_type": "code",
   "execution_count": 18,
   "metadata": {
    "collapsed": false
   },
   "outputs": [
    {
     "data": {
      "text/plain": [
       "'silly'"
      ]
     },
     "execution_count": 18,
     "metadata": {},
     "output_type": "execute_result"
    }
   ],
   "source": [
    "#how to set the \n",
    "myrow.set_value(0, 'HtmlMethod', \"silly\")\n",
    "myrow.iloc[0]['HtmlMethod']\n",
    "#still need to overwrite the old version"
   ]
  },
  {
   "cell_type": "code",
   "execution_count": 67,
   "metadata": {
    "collapsed": false
   },
   "outputs": [],
   "source": []
  },
  {
   "cell_type": "code",
   "execution_count": 70,
   "metadata": {
    "collapsed": false
   },
   "outputs": [],
   "source": [
    "GenericGenes = \"\".join([\"<b>Number of Genes:</b> \", str(int(myrow.iloc[0]['Ngenes'])), \n",
    "                       \"<br/> <b> Number of Excluded Genes: </b>\", str(int(myrow.iloc[0]['Nexcluded'])),\n",
    "                       \"<br/> <b>Subject Distrobution:</b>\", myrow.iloc[0]['Subject Distrobution'] ])\n",
    "\n",
    "wholecannoli = \"\".join([GenericHeader, GenericPlatform, GenericDataset, \n",
    "                        GenericReference, GenericBrain, GenericAnalysis,GenericLimma,GenericModel, GenericModel,\n",
    "                       GenericSubjects, GenericGenes])\n",
    "myrow = myFrame[0:1]\n",
    "print(\" \".join([myrow.iloc[0]['DatasetName'], \"| \", myrow.iloc[0]['Contrast'] ] ) )"
   ]
  },
  {
   "cell_type": "code",
   "execution_count": 9,
   "metadata": {
    "collapsed": false
   },
   "outputs": [
    {
     "name": "stdout",
     "output_type": "stream",
     "text": [
      "GDS4414_PFC_AYDIN_ARRAYEXP |  APLP2 KnockOut vs Wild Type\n"
     ]
    }
   ],
   "source": []
  },
  {
   "cell_type": "code",
   "execution_count": 16,
   "metadata": {
    "collapsed": false
   },
   "outputs": [
    {
     "name": "stdout",
     "output_type": "stream",
     "text": [
      "GDS4414_PFC_AYDIN_ARRAYEXP |  APPsα Knockin vs Wild Type\n"
     ]
    }
   ],
   "source": [
    "row = 2\n",
    "myrow = myFrame[row:row+1]\n",
    "print(\" \".join([myrow.iloc[0]['DatasetName'], \"| \", myrow.iloc[0]['Contrast'] ] ) )"
   ]
  },
  {
   "cell_type": "code",
   "execution_count": 28,
   "metadata": {
    "collapsed": false
   },
   "outputs": [
    {
     "data": {
      "text/plain": [
       "str"
      ]
     },
     "execution_count": 28,
     "metadata": {},
     "output_type": "execute_result"
    }
   ],
   "source": [
    "#doesnt work with last three rows then go through and check all of them\n",
    "#print(MakeTagMA(myrow))\n",
    "type(MakeTagMA(myrow))"
   ]
  },
  {
   "cell_type": "code",
   "execution_count": 25,
   "metadata": {
    "collapsed": false
   },
   "outputs": [],
   "source": [
    "import csv\n",
    "with open('Html.csv', 'w', newline='') as mycsvfile:\n",
    "    MyWriter = csv.writer(mycsvfile, delimiter='\\t', quoting=csv.QUOTE_MINIMAL)\n",
    "    for i in range(0,18):\n",
    "        myrow = myFrame[i:i+1]\n",
    "        MyWriter.writerow([str(MakeTagMA(myrow))], )"
   ]
  },
  {
   "cell_type": "markdown",
   "metadata": {
    "collapsed": true
   },
   "source": [
    "Need to update the NGenes Columns and Nexcluded Columns for metadata file\n",
    "-lower priority than getting all data sets ready to gooooooo"
   ]
  },
  {
   "cell_type": "code",
   "execution_count": 36,
   "metadata": {
    "collapsed": false
   },
   "outputs": [],
   "source": [
    "data = {'HtmlTag':[]}"
   ]
  },
  {
   "cell_type": "code",
   "execution_count": 37,
   "metadata": {
    "collapsed": true
   },
   "outputs": [],
   "source": [
    "for i in range(0,18):\n",
    "    myrow = myFrame[i:i+1]\n",
    "    if data['HtmlTag'].append(MakeTagMA(myrow))\n",
    "    if i belongs to 9 10 11"
   ]
  },
  {
   "cell_type": "code",
   "execution_count": 38,
   "metadata": {
    "collapsed": false
   },
   "outputs": [
    {
     "data": {
      "text/plain": [
       "[\"<h2>Original dataset</h2><p><b>Type of data:</b> Microarray <br/><b>Platform: </b><a href='https://www.ncbi.nlm.nih.gov/geo/query/acc.cgi?acc=GPL1261'>Affymetrix Mouse Genome 430 2.0 Array</a></br><b> Dataset Code: <a href='https://www.ncbi.nlm.nih.gov/geo/query/acc.cgi?acc=GDS4414'>GDS4414</a></b></br><b>Reference article: </b>Aydin D, Filippov MA, Tschäpe JA, Gretz N et al. Comparative transcriptome profiling of amyloid precursor protein family members in the adult cortex. BMC Genomics 2011 Mar 24;12:160. PMID:\\xa021435241</p><p><b>Brain Region</b>: Prefrontal Cortex</p> <p><b>Clustered brain region: </b>Frontal Lobe</p><h2>Analysis</h2><p><b>Analysis script:</b> DiffExprs_GDS4414.R </br><b>Description:</b> Analysis was performed by <a href='https://bioconductor.org/packages/release/bioc/html/limma.html'>Limma Package</a>. No prior filtering was performed, neither on variance nor intensity.  </p><p><b>Model Description</b>: <a href='http://www.alzforum.org/research-models/app-knock-out'> App Knockout </a> <a href='http://www.alzforum.org/research-models/aplp2-knock-out'> APLP2ko </a> APPsα</p><h2>Subjects</h2><p><b>Compared groups: </b>APLP2 KnockOut vs Wild Type</br><b>Number of Genes:</b> 45101<br/> <b> Number of Excluded Genes: </b>0<br/> <b>Subject Distrobution: </b>APLP2ko:6 | WT: 3</p>\",\n",
       " \"<h2>Original dataset</h2><p><b>Type of data:</b> Microarray <br/><b>Platform: </b><a href='https://www.ncbi.nlm.nih.gov/geo/query/acc.cgi?acc=GPL1261'>Affymetrix Mouse Genome 430 2.0 Array</a></br><b> Dataset Code: <a href='https://www.ncbi.nlm.nih.gov/geo/query/acc.cgi?acc=GDS4414'>GDS4414</a></b></br><b>Reference article: </b>Aydin D, Filippov MA, Tschäpe JA, Gretz N et al. Comparative transcriptome profiling of amyloid precursor protein family members in the adult cortex. BMC Genomics 2011 Mar 24;12:160. PMID:\\xa021435241</p><p><b>Brain Region</b>: Prefrontal Cortex</p> <p><b>Clustered brain region: </b>Frontal Lobe</p><h2>Analysis</h2><p><b>Analysis script:</b> DiffExprs_GDS4414.R </br><b>Description:</b> Analysis was performed by <a href='https://bioconductor.org/packages/release/bioc/html/limma.html'>Limma Package</a>. No prior filtering was performed, neither on variance nor intensity.  </p><p><b>Model Description</b>: <a href='http://www.alzforum.org/research-models/app-knock-out'> App Knockout </a> <a href='http://www.alzforum.org/research-models/aplp2-knock-out'> APLP2ko </a> APPsα</p><h2>Subjects</h2><p><b>Compared groups: </b>APP KnockOut vs Wild Type</br><b>Number of Genes:</b> 45101<br/> <b> Number of Excluded Genes: </b>0<br/> <b>Subject Distrobution: </b>APPko:3| WT:3</p>\",\n",
       " \"<h2>Original dataset</h2><p><b>Type of data:</b> Microarray <br/><b>Platform: </b><a href='https://www.ncbi.nlm.nih.gov/geo/query/acc.cgi?acc=GPL1261'>Affymetrix Mouse Genome 430 2.0 Array</a></br><b> Dataset Code: <a href='https://www.ncbi.nlm.nih.gov/geo/query/acc.cgi?acc=GDS4414'>GDS4414</a></b></br><b>Reference article: </b>Aydin D, Filippov MA, Tschäpe JA, Gretz N et al. Comparative transcriptome profiling of amyloid precursor protein family members in the adult cortex. BMC Genomics 2011 Mar 24;12:160. PMID:\\xa021435241</p><p><b>Brain Region</b>: Prefrontal Cortex</p> <p><b>Clustered brain region: </b>Frontal Lobe</p><h2>Analysis</h2><p><b>Analysis script:</b> DiffExprs_GDS4414.R </br><b>Description:</b> Analysis was performed by <a href='https://bioconductor.org/packages/release/bioc/html/limma.html'>Limma Package</a>. No prior filtering was performed, neither on variance nor intensity.  </p><p><b>Model Description</b>: <a href='http://www.alzforum.org/research-models/app-knock-out'> App Knockout </a> <a href='http://www.alzforum.org/research-models/aplp2-knock-out'> APLP2ko </a> APPsα</p><h2>Subjects</h2><p><b>Compared groups: </b>APPsα Knockin vs Wild Type</br><b>Number of Genes:</b> 45101<br/> <b> Number of Excluded Genes: </b>0<br/> <b>Subject Distrobution: </b>APPsα:3 | WT:3</p>\",\n",
       " \"<h2>Original dataset</h2><p><b>Type of data:</b> Microarray <br/><b>Platform: </b><a href='https://www.ncbi.nlm.nih.gov/geo/query/acc.cgi?acc=GPL8759'>Affymetrix HT Mouse Genome 430A Array</a></br><b> Dataset Code: <a href='https://www.ncbi.nlm.nih.gov/geo/query/acc.cgi?acc=GSE57583'>GSE57583</a></b></br><b>Reference article: </b>Wes PD, Easton A, Corradi JP, Barten DM, DeCarr LB, Truong A, He A, Barrezueta NX, Polson C, Bourin C, Flynn ME, Keenan S, Lidge R, Meredith J, Natale J, Sankaranarayanan S, Seager M, Cadelina GW, Albright CF, Cacace AM</p><p><b>Brain Region</b>: Hippocampus</p> <p><b>Clustered brain region: </b>Limbic system</p><h2>Analysis</h2><p><b>Analysis script:</b> DiffExprs_GSE57583.R </br><b>Description:</b> Analysis was performed by <a href='https://bioconductor.org/packages/release/bioc/html/limma.html'>Limma Package</a>. No prior filtering was performed, neither on variance nor intensity.  </p><p><b>Model Description</b>: <a href='http://www.alzforum.org/research-models/rtgtaup301l4510'> Tg4510 Mouse Model </a></p><h2>Subjects</h2><p><b>Compared groups: </b>Double Negative vs Tg4510</br><b>Number of Genes:</b> 22716<br/> <b> Number of Excluded Genes: </b>0<br/> <b>Subject Distrobution: </b>DblNeg:17 | Tg4510:17</p>\",\n",
       " \"<h2>Original dataset</h2><p><b>Type of data:</b> Microarray <br/><b>Platform: </b><a href='https://www.ncbi.nlm.nih.gov/geo/query/acc.cgi?acc=GPL8759'>Affymetrix HT Mouse Genome 430A Array</a></br><b> Dataset Code: <a href='https://www.ncbi.nlm.nih.gov/geo/query/acc.cgi?acc=GSE57583'>GSE57583</a></b></br><b>Reference article: </b>Wes PD, Easton A, Corradi JP, Barten DM, DeCarr LB, Truong A, He A, Barrezueta NX, Polson C, Bourin C, Flynn ME, Keenan S, Lidge R, Meredith J, Natale J, Sankaranarayanan S, Seager M, Cadelina GW, Albright CF, Cacace AM</p><p><b>Brain Region</b>: Hippocampus</p> <p><b>Clustered brain region: </b>Limbic system</p><h2>Analysis</h2><p><b>Analysis script:</b> DiffExprs_GSE57583.R </br><b>Description:</b> Analysis was performed by <a href='https://bioconductor.org/packages/release/bioc/html/limma.html'>Limma Package</a>. No prior filtering was performed, neither on variance nor intensity.  </p><p><b>Model Description</b>: <a href='http://www.alzforum.org/research-models/rtgtaup301l4510'> Tg4510 Mouse Model </a></p><h2>Subjects</h2><p><b>Compared groups: </b>Double Negative vs TTA Alone</br><b>Number of Genes:</b> 22716<br/> <b> Number of Excluded Genes: </b>0<br/> <b>Subject Distrobution: </b>DblNeg:17 | TTAalone:15</p>\",\n",
       " \"<h2>Original dataset</h2><p><b>Type of data:</b> Microarray <br/><b>Platform: </b><a href='https://www.ncbi.nlm.nih.gov/geo/query/acc.cgi?acc=GPL8759'>Affymetrix HT Mouse Genome 430A Array</a></br><b> Dataset Code: <a href='https://www.ncbi.nlm.nih.gov/geo/query/acc.cgi?acc=GSE57583'>GSE57583</a></b></br><b>Reference article: </b>Wes PD, Easton A, Corradi JP, Barten DM, DeCarr LB, Truong A, He A, Barrezueta NX, Polson C, Bourin C, Flynn ME, Keenan S, Lidge R, Meredith J, Natale J, Sankaranarayanan S, Seager M, Cadelina GW, Albright CF, Cacace AM</p><p><b>Brain Region</b>: Hippocampus</p> <p><b>Clustered brain region: </b>Limbic system</p><h2>Analysis</h2><p><b>Analysis script:</b> DiffExprs_GSE57583.R </br><b>Description:</b> Analysis was performed by <a href='https://bioconductor.org/packages/release/bioc/html/limma.html'>Limma Package</a>. No prior filtering was performed, neither on variance nor intensity.  </p><p><b>Model Description</b>: <a href='http://www.alzforum.org/research-models/rtgtaup301l4510'> Tg4510 Mouse Model </a></p><h2>Subjects</h2><p><b>Compared groups: </b>Tg4510vsTTAalone</br><b>Number of Genes:</b> 22716<br/> <b> Number of Excluded Genes: </b>0<br/> <b>Subject Distrobution: </b>Tg4510:17 | TTAalone:15</p>\",\n",
       " \"<h2>Original dataset</h2><p><b>Type of data:</b> Microarray <br/><b>Platform: </b><a href='https://www.ncbi.nlm.nih.gov/geo/query/acc.cgi?acc=GPL8759'>Affymetrix HT Mouse Genome 430A Array</a></br><b> Dataset Code: <a href='https://www.ncbi.nlm.nih.gov/geo/query/acc.cgi?acc=GSE56772'>GSE56772</a></b></br><b>Reference article: </b>Wes PD, Easton A, Corradi JP, Barten DM, DeCarr LB, Truong A, He A, Barrezueta NX, Polson C, Bourin C, Flynn ME, Keenan S, Lidge R, Meredith J, Natale J, Sankaranarayanan S, Seager M, Cadelina GW, Albright CF, Cacace AM</p><p><b>Brain Region</b>: Hippocampus</p> <p><b>Clustered brain region: </b>Limbic system</p><h2>Analysis</h2><p><b>Analysis script:</b> DiffExprs_GSE56772.R </br><b>Description:</b> Analysis was performed by <a href='https://bioconductor.org/packages/release/bioc/html/limma.html'>Limma Package</a>. No prior filtering was performed, neither on variance nor intensity.  </p><p><b>Model Description</b>: <a href='http://www.alzforum.org/research-models/rtgtaup301l4510'> Tg4510 Mouse Model </a></p><h2>Subjects</h2><p><b>Compared groups: </b>Double Negative vs Tg4510</br><b>Number of Genes:</b> 22716<br/> <b> Number of Excluded Genes: </b>0<br/> <b>Subject Distrobution: </b>DblNeg:25 | Tg4510:26</p>\",\n",
       " \"<h2>Original dataset</h2><p><b>Type of data:</b> Microarray <br/><b>Platform: </b><a href='https://www.ncbi.nlm.nih.gov/geo/query/acc.cgi?acc=GPL8759'>Affymetrix HT Mouse Genome 430A Array</a></br><b> Dataset Code: <a href='https://www.ncbi.nlm.nih.gov/geo/query/acc.cgi?acc=GSE56772'>GSE56772</a></b></br><b>Reference article: </b>Wes PD, Easton A, Corradi JP, Barten DM, DeCarr LB, Truong A, He A, Barrezueta NX, Polson C, Bourin C, Flynn ME, Keenan S, Lidge R, Meredith J, Natale J, Sankaranarayanan S, Seager M, Cadelina GW, Albright CF, Cacace AM</p><p><b>Brain Region</b>: Hippocampus</p> <p><b>Clustered brain region: </b>Limbic system</p><h2>Analysis</h2><p><b>Analysis script:</b> DiffExprs_GSE56772.R </br><b>Description:</b> Analysis was performed by <a href='https://bioconductor.org/packages/release/bioc/html/limma.html'>Limma Package</a>. No prior filtering was performed, neither on variance nor intensity.  </p><p><b>Model Description</b>: <a href='http://www.alzforum.org/research-models/rtgtaup301l4510'> Tg4510 Mouse Model </a></p><h2>Subjects</h2><p><b>Compared groups: </b>Double Negative vs TTA Alone</br><b>Number of Genes:</b> 22716<br/> <b> Number of Excluded Genes: </b>0<br/> <b>Subject Distrobution: </b>DblNeg:25 | TTAalone:25</p>\",\n",
       " \"<h2>Original dataset</h2><p><b>Type of data:</b> Microarray <br/><b>Platform: </b><a href='https://www.ncbi.nlm.nih.gov/geo/query/acc.cgi?acc=GPL8759'>Affymetrix HT Mouse Genome 430A Array</a></br><b> Dataset Code: <a href='https://www.ncbi.nlm.nih.gov/geo/query/acc.cgi?acc=GSE56772'>GSE56772</a></b></br><b>Reference article: </b>Wes PD, Easton A, Corradi JP, Barten DM, DeCarr LB, Truong A, He A, Barrezueta NX, Polson C, Bourin C, Flynn ME, Keenan S, Lidge R, Meredith J, Natale J, Sankaranarayanan S, Seager M, Cadelina GW, Albright CF, Cacace AM</p><p><b>Brain Region</b>: Hippocampus</p> <p><b>Clustered brain region: </b>Limbic system</p><h2>Analysis</h2><p><b>Analysis script:</b> DiffExprs_GSE56772.R </br><b>Description:</b> Analysis was performed by <a href='https://bioconductor.org/packages/release/bioc/html/limma.html'>Limma Package</a>. No prior filtering was performed, neither on variance nor intensity.  </p><p><b>Model Description</b>: <a href='http://www.alzforum.org/research-models/rtgtaup301l4510'> Tg4510 Mouse Model </a></p><h2>Subjects</h2><p><b>Compared groups: </b>Tg4510 vs TTA Alone</br><b>Number of Genes:</b> 22716<br/> <b> Number of Excluded Genes: </b>0<br/> <b>Subject Distrobution: </b>Tg4510:26 | TTAalone:25</p>\",\n",
       " \"<h2>Original dataset</h2><p><b>Type of data:</b> Microarray <br/><b>Platform: </b><a href='https://www.ncbi.nlm.nih.gov/geo/query/acc.cgi?acc=GPL13112'>Ilumina HiSeq 2000 (Mus musculus)</a></br><b> Dataset Code: <a href='https://www.ncbi.nlm.nih.gov/geo/query/acc.cgi?acc=GSE56772'>GSE56772</a></b></br><b>Reference article: </b>Gjoneska E, Pfenning AR, Mathys H, Quon G et al. <b>Conserved epigenomic signals in mice and humans reveal immune basis of Alzheimer's disease.</b> Nature 2015 Feb 19;518(7539):365-9. <br/> </p><p><b>Brain Region</b>: Hippocampus</p> <p><b>Clustered brain region: </b>Limbic system</p><h2>Analysis</h2><p><b>Analysis script:</b> DiffExprs_GSE56772.R </br><b>Description:</b> Analysis was performed by <a href='https://bioconductor.org/packages/release/bioc/html/limma.html'>Limma Package</a>. No prior filtering was performed, neither on variance nor intensity.  </p><p><b>Model Description</b>: <a href='http://tsailaboratory.mit.edu/research/'> CKp25 Mouse Model </a></p><h2>Subjects</h2><p><b>Compared groups: </b>CKp25 2 Weeks Old vs Control</br><b>Number of Genes:</b> 16303<br/> <b> Number of Excluded Genes: </b>21693<br/> <b>Subject Distrobution: </b>CKp25_2wk:3 | Control:6</p>\",\n",
       " \"<h2>Original dataset</h2><p><b>Type of data:</b> Microarray <br/><b>Platform: </b><a href='https://www.ncbi.nlm.nih.gov/geo/query/acc.cgi?acc=GPL13112'>Ilumina HiSeq 2000 (Mus musculus)</a></br><b> Dataset Code: <a href='https://www.ncbi.nlm.nih.gov/geo/query/acc.cgi?acc=GSE65159'>GSE65159</a></b></br><b>Reference article: </b>Gjoneska E, Pfenning AR, Mathys H, Quon G et al. <b>Conserved epigenomic signals in mice and humans reveal immune basis of Alzheimer's disease.</b> Nature 2015 Feb 19;518(7539):365-9. <br/> </p><p><b>Brain Region</b>: Hippocampus</p> <p><b>Clustered brain region: </b>Limbic system</p><h2>Analysis</h2><p><b>Analysis script:</b> DiffExprs_GSE65159.R </br><b>Description:</b> Analysis was performed by <a href='https://bioconductor.org/packages/release/bioc/html/limma.html'>Limma Package</a>. No prior filtering was performed, neither on variance nor intensity.  </p><p><b>Model Description</b>: <a href='http://tsailaboratory.mit.edu/research/'> CKp25 Mouse Model </a></p><h2>Subjects</h2><p><b>Compared groups: </b>CKp25 6 Weeks Old vs Control</br><b>Number of Genes:</b> 16226<br/> <b> Number of Excluded Genes: </b>21770<br/> <b>Subject Distrobution: </b>CKp25_6wk:3 | Control:6</p>\",\n",
       " \"<h2>Original dataset</h2><p><b>Type of data:</b> Microarray <br/><b>Platform: </b><a href='https://www.ncbi.nlm.nih.gov/geo/query/acc.cgi?acc=GPL13112'>Ilumina HiSeq 2000 (Mus musculus)</a></br><b> Dataset Code: <a href='https://www.ncbi.nlm.nih.gov/geo/query/acc.cgi?acc=GSE65159'>GSE65159</a></b></br><b>Reference article: </b>Gjoneska E, Pfenning AR, Mathys H, Quon G et al. <b>Conserved epigenomic signals in mice and humans reveal immune basis of Alzheimer's disease.</b> Nature 2015 Feb 19;518(7539):365-9. <br/> </p><p><b>Brain Region</b>: Hippocampus</p> <p><b>Clustered brain region: </b>Limbic system</p><h2>Analysis</h2><p><b>Analysis script:</b> DiffExprs_GSE65159.R </br><b>Description:</b> Analysis was performed by <a href='https://bioconductor.org/packages/release/bioc/html/limma.html'>Limma Package</a>. No prior filtering was performed, neither on variance nor intensity.  </p><p><b>Model Description</b>: <a href='http://tsailaboratory.mit.edu/research/'> CKp25 Mouse Model </a></p><h2>Subjects</h2><p><b>Compared groups: </b>CKp25 6 Weeks Old vs CKp25 2 Weeks Old</br><b>Number of Genes:</b> 16001<br/> <b> Number of Excluded Genes: </b>21995<br/> <b>Subject Distrobution: </b>CKp25_2wk:3| CKp25_6wk: 3</p>\",\n",
       " \"<h2>Original dataset</h2><p><b>Type of data:</b> Microarray <br/><b>Platform: </b><a href='https://www.ncbi.nlm.nih.gov/geo/query/acc.cgi?acc=GPL8759'>Affymetrix HT Mouse Genome 430A Array</a></br><b> Dataset Code: <a href='https://www.ncbi.nlm.nih.gov/geo/query/acc.cgi?acc=GSE57528'>GSE57528</a></b></br><b>Reference article: </b>Wes PD, Easton A, Corradi JP, Barten DM, DeCarr LB, Truong A, He A, Barrezueta NX, Polson C, Bourin C, Flynn ME, Keenan S, Lidge R, Meredith J, Natale J, Sankaranarayanan S, Seager M, Cadelina GW, Albright CF, Cacace AM</p><p><b>Brain Region</b>: Hippocampus</p> <p><b>Clustered brain region: </b>Limbic system</p><h2>Analysis</h2><p><b>Analysis script:</b> DiffExprs_GSE57528.R </br><b>Description:</b> Analysis was performed by <a href='https://bioconductor.org/packages/release/bioc/html/limma.html'>Limma Package</a>. No prior filtering was performed, neither on variance nor intensity.  </p><p><b>Model Description</b>: <a href='http://www.alzforum.org/research-models/rtgtaup301l4510'> Tg4510 Mouse Model </a></p><h2>Subjects</h2><p><b>Compared groups: </b>Double Negative vs Tg4510</br><b>Number of Genes:</b> 22716<br/> <b> Number of Excluded Genes: </b>0<br/> <b>Subject Distrobution: </b>DblNeg: 18 | Tg4510: 18</p>\",\n",
       " \"<h2>Original dataset</h2><p><b>Type of data:</b> Microarray <br/><b>Platform: </b><a href='https://www.ncbi.nlm.nih.gov/geo/query/acc.cgi?acc=GPL8759'>Affymetrix HT Mouse Genome 430A Array</a></br><b> Dataset Code: <a href='https://www.ncbi.nlm.nih.gov/geo/query/acc.cgi?acc=GSE57528'>GSE57528</a></b></br><b>Reference article: </b>Wes PD, Easton A, Corradi JP, Barten DM, DeCarr LB, Truong A, He A, Barrezueta NX, Polson C, Bourin C, Flynn ME, Keenan S, Lidge R, Meredith J, Natale J, Sankaranarayanan S, Seager M, Cadelina GW, Albright CF, Cacace AM</p><p><b>Brain Region</b>: Hippocampus</p> <p><b>Clustered brain region: </b>Limbic system</p><h2>Analysis</h2><p><b>Analysis script:</b> DiffExprs_GSE57528.R </br><b>Description:</b> Analysis was performed by <a href='https://bioconductor.org/packages/release/bioc/html/limma.html'>Limma Package</a>. No prior filtering was performed, neither on variance nor intensity.  </p><p><b>Model Description</b>: <a href='http://www.alzforum.org/research-models/rtgtaup301l4510'> Tg4510 Mouse Model </a></p><h2>Subjects</h2><p><b>Compared groups: </b>Double Negative vs TTA alone</br><b>Number of Genes:</b> 22716<br/> <b> Number of Excluded Genes: </b>0<br/> <b>Subject Distrobution: </b>DblNeg:18 | TTAalone:15</p>\",\n",
       " \"<h2>Original dataset</h2><p><b>Type of data:</b> Microarray <br/><b>Platform: </b><a href='https://www.ncbi.nlm.nih.gov/geo/query/acc.cgi?acc=GPL8759'>Affymetrix HT Mouse Genome 430A Array</a></br><b> Dataset Code: <a href='https://www.ncbi.nlm.nih.gov/geo/query/acc.cgi?acc=GSE57528'>GSE57528</a></b></br><b>Reference article: </b>Wes PD, Easton A, Corradi JP, Barten DM, DeCarr LB, Truong A, He A, Barrezueta NX, Polson C, Bourin C, Flynn ME, Keenan S, Lidge R, Meredith J, Natale J, Sankaranarayanan S, Seager M, Cadelina GW, Albright CF, Cacace AM</p><p><b>Brain Region</b>: Hippocampus</p> <p><b>Clustered brain region: </b>Limbic system</p><h2>Analysis</h2><p><b>Analysis script:</b> DiffExprs_GSE57528.R </br><b>Description:</b> Analysis was performed by <a href='https://bioconductor.org/packages/release/bioc/html/limma.html'>Limma Package</a>. No prior filtering was performed, neither on variance nor intensity.  </p><p><b>Model Description</b>: <a href='http://www.alzforum.org/research-models/rtgtaup301l4510'> Tg4510 Mouse Model </a></p><h2>Subjects</h2><p><b>Compared groups: </b>Tg4510 vs TTA alone</br><b>Number of Genes:</b> 22716<br/> <b> Number of Excluded Genes: </b>0<br/> <b>Subject Distrobution: </b>Tg4510:18 | TTAalone:15</p>\",\n",
       " \"<h2>Original dataset</h2><p><b>Type of data:</b> Microarray <br/><b>Platform: </b><a href='https://www.ncbi.nlm.nih.gov/geo/query/acc.cgi?acc=GPL1261 '>Affymetrix Mouse Genome 430 2.0 Array</a></br><b> Dataset Code: <a href='https://www.ncbi.nlm.nih.gov/geo/query/acc.cgi?acc=GSE9566'>GSE9566</a></b></br><b>Reference article: </b>Cahoy JD, Emery B, Kaushal A, Foo LC et al. A transcriptome database for astrocytes, neurons, and oligodendrocytes: a new resource for understanding brain development and function. J Neurosci 2008 Jan 2;28(1):264-78. PMID:\\xa018171944</p><p><b>Brain Region</b>: Forebrain</p> <p><b>Clustered brain region: </b>Frontal Lobe</p><h2>Analysis</h2><p><b>Analysis script:</b> DiffExprs_GSE9566.R </br><b>Description:</b> Analysis was performed by <a href='https://bioconductor.org/packages/release/bioc/html/limma.html'>Limma Package</a>. No prior filtering was performed, neither on variance nor intensity.  </p><p><b>Model Description</b>: S100β-EGFP mice</p><h2>Subjects</h2><p><b>Compared groups: </b>Astrocytes vs Nuerons and Oligodendrocytes</br><b>Number of Genes:</b> 45101<br/> <b> Number of Excluded Genes: </b>0<br/> <b>Subject Distrobution: </b>Astrocytes: 10 | Controls: 28</p>\",\n",
       " \"<h2>Original dataset</h2><p><b>Type of data:</b> Microarray <br/><b>Platform: </b><a href='https://www.ncbi.nlm.nih.gov/geo/query/acc.cgi?acc=GPL1261 '>Affymetrix Mouse Genome 430 2.0 Array</a></br><b> Dataset Code: <a href='https://www.ncbi.nlm.nih.gov/geo/query/acc.cgi?acc=GSE9566'>GSE9566</a></b></br><b>Reference article: </b>Cahoy JD, Emery B, Kaushal A, Foo LC et al. A transcriptome database for astrocytes, neurons, and oligodendrocytes: a new resource for understanding brain development and function. J Neurosci 2008 Jan 2;28(1):264-78. PMID:\\xa018171944</p><p><b>Brain Region</b>: Forebrain</p> <p><b>Clustered brain region: </b>Frontal Lobe</p><h2>Analysis</h2><p><b>Analysis script:</b> DiffExprs_GSE9566.R </br><b>Description:</b> Analysis was performed by <a href='https://bioconductor.org/packages/release/bioc/html/limma.html'>Limma Package</a>. No prior filtering was performed, neither on variance nor intensity.  </p><p><b>Model Description</b>: S100β-EGFP mice</p><h2>Subjects</h2><p><b>Compared groups: </b>Neurons vs Astrocytes and Oligodendrocytes</br><b>Number of Genes:</b> 45101<br/> <b> Number of Excluded Genes: </b>0<br/> <b>Subject Distrobution: </b>Neurons: 7 | Controls: 31</p>\",\n",
       " \"<h2>Original dataset</h2><p><b>Type of data:</b> Microarray <br/><b>Platform: </b><a href='https://www.ncbi.nlm.nih.gov/geo/query/acc.cgi?acc=GPL1261 '>Affymetrix Mouse Genome 430 2.0 Array</a></br><b> Dataset Code: <a href='https://www.ncbi.nlm.nih.gov/geo/query/acc.cgi?acc=GSE9566'>GSE9566</a></b></br><b>Reference article: </b>Cahoy JD, Emery B, Kaushal A, Foo LC et al. A transcriptome database for astrocytes, neurons, and oligodendrocytes: a new resource for understanding brain development and function. J Neurosci 2008 Jan 2;28(1):264-78. PMID:\\xa018171944</p><p><b>Brain Region</b>: Forebrain</p> <p><b>Clustered brain region: </b>Frontal Lobe</p><h2>Analysis</h2><p><b>Analysis script:</b> DiffExprs_GSE9566.R </br><b>Description:</b> Analysis was performed by <a href='https://bioconductor.org/packages/release/bioc/html/limma.html'>Limma Package</a>. No prior filtering was performed, neither on variance nor intensity.  </p><p><b>Model Description</b>: S100β-EGFP mice</p><h2>Subjects</h2><p><b>Compared groups: </b>Oligodendrocytes vs Astrocytes and Neurons</br><b>Number of Genes:</b> 45101<br/> <b> Number of Excluded Genes: </b>0<br/> <b>Subject Distrobution: </b>Oligodendrocytes: 10 | Controls: 28</p>\"]"
      ]
     },
     "execution_count": 38,
     "metadata": {},
     "output_type": "execute_result"
    }
   ],
   "source": [
    "data['HtmlTag']"
   ]
  },
  {
   "cell_type": "code",
   "execution_count": 39,
   "metadata": {
    "collapsed": false
   },
   "outputs": [
    {
     "data": {
      "text/html": [
       "<div>\n",
       "<table border=\"1\" class=\"dataframe\">\n",
       "  <thead>\n",
       "    <tr style=\"text-align: right;\">\n",
       "      <th></th>\n",
       "      <th>HtmlTag</th>\n",
       "    </tr>\n",
       "  </thead>\n",
       "  <tbody>\n",
       "    <tr>\n",
       "      <th>0</th>\n",
       "      <td>&lt;h2&gt;Original dataset&lt;/h2&gt;&lt;p&gt;&lt;b&gt;Type of data:&lt;/...</td>\n",
       "    </tr>\n",
       "    <tr>\n",
       "      <th>1</th>\n",
       "      <td>&lt;h2&gt;Original dataset&lt;/h2&gt;&lt;p&gt;&lt;b&gt;Type of data:&lt;/...</td>\n",
       "    </tr>\n",
       "    <tr>\n",
       "      <th>2</th>\n",
       "      <td>&lt;h2&gt;Original dataset&lt;/h2&gt;&lt;p&gt;&lt;b&gt;Type of data:&lt;/...</td>\n",
       "    </tr>\n",
       "    <tr>\n",
       "      <th>3</th>\n",
       "      <td>&lt;h2&gt;Original dataset&lt;/h2&gt;&lt;p&gt;&lt;b&gt;Type of data:&lt;/...</td>\n",
       "    </tr>\n",
       "    <tr>\n",
       "      <th>4</th>\n",
       "      <td>&lt;h2&gt;Original dataset&lt;/h2&gt;&lt;p&gt;&lt;b&gt;Type of data:&lt;/...</td>\n",
       "    </tr>\n",
       "    <tr>\n",
       "      <th>5</th>\n",
       "      <td>&lt;h2&gt;Original dataset&lt;/h2&gt;&lt;p&gt;&lt;b&gt;Type of data:&lt;/...</td>\n",
       "    </tr>\n",
       "    <tr>\n",
       "      <th>6</th>\n",
       "      <td>&lt;h2&gt;Original dataset&lt;/h2&gt;&lt;p&gt;&lt;b&gt;Type of data:&lt;/...</td>\n",
       "    </tr>\n",
       "    <tr>\n",
       "      <th>7</th>\n",
       "      <td>&lt;h2&gt;Original dataset&lt;/h2&gt;&lt;p&gt;&lt;b&gt;Type of data:&lt;/...</td>\n",
       "    </tr>\n",
       "    <tr>\n",
       "      <th>8</th>\n",
       "      <td>&lt;h2&gt;Original dataset&lt;/h2&gt;&lt;p&gt;&lt;b&gt;Type of data:&lt;/...</td>\n",
       "    </tr>\n",
       "    <tr>\n",
       "      <th>9</th>\n",
       "      <td>&lt;h2&gt;Original dataset&lt;/h2&gt;&lt;p&gt;&lt;b&gt;Type of data:&lt;/...</td>\n",
       "    </tr>\n",
       "    <tr>\n",
       "      <th>10</th>\n",
       "      <td>&lt;h2&gt;Original dataset&lt;/h2&gt;&lt;p&gt;&lt;b&gt;Type of data:&lt;/...</td>\n",
       "    </tr>\n",
       "    <tr>\n",
       "      <th>11</th>\n",
       "      <td>&lt;h2&gt;Original dataset&lt;/h2&gt;&lt;p&gt;&lt;b&gt;Type of data:&lt;/...</td>\n",
       "    </tr>\n",
       "    <tr>\n",
       "      <th>12</th>\n",
       "      <td>&lt;h2&gt;Original dataset&lt;/h2&gt;&lt;p&gt;&lt;b&gt;Type of data:&lt;/...</td>\n",
       "    </tr>\n",
       "    <tr>\n",
       "      <th>13</th>\n",
       "      <td>&lt;h2&gt;Original dataset&lt;/h2&gt;&lt;p&gt;&lt;b&gt;Type of data:&lt;/...</td>\n",
       "    </tr>\n",
       "    <tr>\n",
       "      <th>14</th>\n",
       "      <td>&lt;h2&gt;Original dataset&lt;/h2&gt;&lt;p&gt;&lt;b&gt;Type of data:&lt;/...</td>\n",
       "    </tr>\n",
       "    <tr>\n",
       "      <th>15</th>\n",
       "      <td>&lt;h2&gt;Original dataset&lt;/h2&gt;&lt;p&gt;&lt;b&gt;Type of data:&lt;/...</td>\n",
       "    </tr>\n",
       "    <tr>\n",
       "      <th>16</th>\n",
       "      <td>&lt;h2&gt;Original dataset&lt;/h2&gt;&lt;p&gt;&lt;b&gt;Type of data:&lt;/...</td>\n",
       "    </tr>\n",
       "    <tr>\n",
       "      <th>17</th>\n",
       "      <td>&lt;h2&gt;Original dataset&lt;/h2&gt;&lt;p&gt;&lt;b&gt;Type of data:&lt;/...</td>\n",
       "    </tr>\n",
       "  </tbody>\n",
       "</table>\n",
       "</div>"
      ],
      "text/plain": [
       "                                              HtmlTag\n",
       "0   <h2>Original dataset</h2><p><b>Type of data:</...\n",
       "1   <h2>Original dataset</h2><p><b>Type of data:</...\n",
       "2   <h2>Original dataset</h2><p><b>Type of data:</...\n",
       "3   <h2>Original dataset</h2><p><b>Type of data:</...\n",
       "4   <h2>Original dataset</h2><p><b>Type of data:</...\n",
       "5   <h2>Original dataset</h2><p><b>Type of data:</...\n",
       "6   <h2>Original dataset</h2><p><b>Type of data:</...\n",
       "7   <h2>Original dataset</h2><p><b>Type of data:</...\n",
       "8   <h2>Original dataset</h2><p><b>Type of data:</...\n",
       "9   <h2>Original dataset</h2><p><b>Type of data:</...\n",
       "10  <h2>Original dataset</h2><p><b>Type of data:</...\n",
       "11  <h2>Original dataset</h2><p><b>Type of data:</...\n",
       "12  <h2>Original dataset</h2><p><b>Type of data:</...\n",
       "13  <h2>Original dataset</h2><p><b>Type of data:</...\n",
       "14  <h2>Original dataset</h2><p><b>Type of data:</...\n",
       "15  <h2>Original dataset</h2><p><b>Type of data:</...\n",
       "16  <h2>Original dataset</h2><p><b>Type of data:</...\n",
       "17  <h2>Original dataset</h2><p><b>Type of data:</..."
      ]
     },
     "execution_count": 39,
     "metadata": {},
     "output_type": "execute_result"
    }
   ],
   "source": [
    "pandas.DataFrame(data, columns =[\"HtmlTag\"])"
   ]
  },
  {
   "cell_type": "code",
   "execution_count": 40,
   "metadata": {
    "collapsed": true
   },
   "outputs": [],
   "source": [
    "df = pandas.DataFrame(data, columns =[\"HtmlTag\"])\n",
    "df.to_excel(\"myHtml.xlsx\")"
   ]
  },
  {
   "cell_type": "code",
   "execution_count": 41,
   "metadata": {
    "collapsed": false
   },
   "outputs": [
    {
     "data": {
      "text/html": [
       "<div>\n",
       "<table border=\"1\" class=\"dataframe\">\n",
       "  <thead>\n",
       "    <tr style=\"text-align: right;\">\n",
       "      <th></th>\n",
       "      <th>DatasetCode</th>\n",
       "      <th>DatasetName</th>\n",
       "      <th>BrainRegion</th>\n",
       "      <th>ClusteredBrainRegion</th>\n",
       "      <th>Folder</th>\n",
       "      <th>Title</th>\n",
       "      <th>HtmlMethod</th>\n",
       "      <th>FileName</th>\n",
       "      <th>StratFactor</th>\n",
       "      <th>Peturbation</th>\n",
       "      <th>Contrast</th>\n",
       "      <th>Ngenes</th>\n",
       "      <th>Nexcluded</th>\n",
       "      <th>Subject Distrobution</th>\n",
       "      <th>GPL</th>\n",
       "      <th>Platform</th>\n",
       "      <th>Platform Link</th>\n",
       "      <th>Model Description</th>\n",
       "      <th>Acknowledgement</th>\n",
       "    </tr>\n",
       "  </thead>\n",
       "  <tbody>\n",
       "    <tr>\n",
       "      <th>1</th>\n",
       "      <td>GDS4414</td>\n",
       "      <td>GDS4414_PFC_AYDIN_ARRAYEXP</td>\n",
       "      <td>Prefrontal Cortex</td>\n",
       "      <td>Frontal Lobe</td>\n",
       "      <td>Mouse/GDS4414/Results</td>\n",
       "      <td>GDS4414_PFC_AYDIN_ARRAYEXP_APPko_WT</td>\n",
       "      <td>&lt;h2&gt;Original dataset&lt;/h2&gt;&lt;p&gt;&lt;b&gt;Type of data:&lt;/...</td>\n",
       "      <td>GDS4414_PFC_AYDIN_ARRAYEXP_APPko_WT.csv</td>\n",
       "      <td>APLP2ko|APPko|APPsα|WildType</td>\n",
       "      <td>APPKO-WT</td>\n",
       "      <td>APP KnockOut vs Wild Type</td>\n",
       "      <td>45101</td>\n",
       "      <td>0</td>\n",
       "      <td>APPko:3| WT:3</td>\n",
       "      <td>GPL1261</td>\n",
       "      <td>Affymetrix Mouse Genome 430 2.0 Array</td>\n",
       "      <td>https://www.ncbi.nlm.nih.gov/geo/query/acc.cgi...</td>\n",
       "      <td>&lt;a href='http://www.alzforum.org/research-mode...</td>\n",
       "      <td>Aydin D, Filippov MA, Tschäpe JA, Gretz N et a...</td>\n",
       "    </tr>\n",
       "    <tr>\n",
       "      <th>2</th>\n",
       "      <td>GDS4414</td>\n",
       "      <td>GDS4414_PFC_AYDIN_ARRAYEXP</td>\n",
       "      <td>Prefrontal Cortex</td>\n",
       "      <td>Frontal Lobe</td>\n",
       "      <td>Mouse/GDS4414/Results</td>\n",
       "      <td>GDS4414_PFC_AYDIN_ARRAYEXP_APPsaki_WT</td>\n",
       "      <td>&lt;h2&gt;Original dataset&lt;/h2&gt;&lt;p&gt;&lt;b&gt;Type of data:&lt;/...</td>\n",
       "      <td>GDS4414_PFC_AYDIN_ARRAYEXP_APPsaki_WT.csv</td>\n",
       "      <td>APLP2ko|APPko|APPsα|WildType</td>\n",
       "      <td>APPsa-WT</td>\n",
       "      <td>APPsα Knockin vs Wild Type</td>\n",
       "      <td>45101</td>\n",
       "      <td>0</td>\n",
       "      <td>APPsα:3 | WT:3</td>\n",
       "      <td>GPL1261</td>\n",
       "      <td>Affymetrix Mouse Genome 430 2.0 Array</td>\n",
       "      <td>https://www.ncbi.nlm.nih.gov/geo/query/acc.cgi...</td>\n",
       "      <td>&lt;a href='http://www.alzforum.org/research-mode...</td>\n",
       "      <td>Aydin D, Filippov MA, Tschäpe JA, Gretz N et a...</td>\n",
       "    </tr>\n",
       "    <tr>\n",
       "      <th>3</th>\n",
       "      <td>GSE57583</td>\n",
       "      <td>GSE57583_HIP_BMS_ARRAYEXP</td>\n",
       "      <td>Hippocampus</td>\n",
       "      <td>Limbic system</td>\n",
       "      <td>Mouse/GSE57583/Results</td>\n",
       "      <td>GSE57583_HIP_BMS_ARRAYEXP_DblNegvsTg4510</td>\n",
       "      <td>&lt;h2&gt;Original dataset&lt;/h2&gt;&lt;p&gt;&lt;b&gt;Type of data:&lt;/...</td>\n",
       "      <td>GSE57583_HIP_BMS_ARRAYEXP_DblNegvsTg4510.csv</td>\n",
       "      <td>Tg4510|TTA alone| Double Negative (control)</td>\n",
       "      <td>DN-Tg4510</td>\n",
       "      <td>Double Negative vs Tg4510</td>\n",
       "      <td>22716</td>\n",
       "      <td>0</td>\n",
       "      <td>DblNeg:17 | Tg4510:17</td>\n",
       "      <td>GPL8759</td>\n",
       "      <td>Affymetrix HT Mouse Genome 430A Array</td>\n",
       "      <td>https://www.ncbi.nlm.nih.gov/geo/query/acc.cgi...</td>\n",
       "      <td>&lt;a href='http://www.alzforum.org/research-mode...</td>\n",
       "      <td>Wes PD, Easton A, Corradi JP, Barten DM, DeCar...</td>\n",
       "    </tr>\n",
       "    <tr>\n",
       "      <th>4</th>\n",
       "      <td>GSE57583</td>\n",
       "      <td>GSE57583_HIP_BMS_ARRAYEXP</td>\n",
       "      <td>Hippocampus</td>\n",
       "      <td>Limbic system</td>\n",
       "      <td>Mouse/GSE57583/Results</td>\n",
       "      <td>GSE57583_HIP_BMS_ARRAYEXP_DblNegvsTTAalone</td>\n",
       "      <td>&lt;h2&gt;Original dataset&lt;/h2&gt;&lt;p&gt;&lt;b&gt;Type of data:&lt;/...</td>\n",
       "      <td>GSE57583_HIP_BMS_ARRAYEXP_DblNegvsTTAalone.csv</td>\n",
       "      <td>Tg4510|TTA alone| Double Negative (control)</td>\n",
       "      <td>DN-TTA</td>\n",
       "      <td>Double Negative vs TTA Alone</td>\n",
       "      <td>22716</td>\n",
       "      <td>0</td>\n",
       "      <td>DblNeg:17 | TTAalone:15</td>\n",
       "      <td>GPL8759</td>\n",
       "      <td>Affymetrix HT Mouse Genome 430A Array</td>\n",
       "      <td>https://www.ncbi.nlm.nih.gov/geo/query/acc.cgi...</td>\n",
       "      <td>&lt;a href='http://www.alzforum.org/research-mode...</td>\n",
       "      <td>Wes PD, Easton A, Corradi JP, Barten DM, DeCar...</td>\n",
       "    </tr>\n",
       "    <tr>\n",
       "      <th>5</th>\n",
       "      <td>GSE57583</td>\n",
       "      <td>GSE57583_HIP_BMS_ARRAYEXP</td>\n",
       "      <td>Hippocampus</td>\n",
       "      <td>Limbic system</td>\n",
       "      <td>Mouse/GSE57583/Results</td>\n",
       "      <td>GSE57583_HIP_BMS_ARRAYEXP_Tg4510vsTTAalone</td>\n",
       "      <td>&lt;h2&gt;Original dataset&lt;/h2&gt;&lt;p&gt;&lt;b&gt;Type of data:&lt;/...</td>\n",
       "      <td>GSE57583_HIP_BMS_ARRAYEXP_Tg4510vsTTAalone.csv</td>\n",
       "      <td>Tg4510|TTA alone| Double Negative (control)</td>\n",
       "      <td>Tg4510-TTA</td>\n",
       "      <td>Tg4510vsTTAalone</td>\n",
       "      <td>22716</td>\n",
       "      <td>0</td>\n",
       "      <td>Tg4510:17 | TTAalone:15</td>\n",
       "      <td>GPL8759</td>\n",
       "      <td>Affymetrix HT Mouse Genome 430A Array</td>\n",
       "      <td>https://www.ncbi.nlm.nih.gov/geo/query/acc.cgi...</td>\n",
       "      <td>&lt;a href='http://www.alzforum.org/research-mode...</td>\n",
       "      <td>Wes PD, Easton A, Corradi JP, Barten DM, DeCar...</td>\n",
       "    </tr>\n",
       "    <tr>\n",
       "      <th>6</th>\n",
       "      <td>GSE56772</td>\n",
       "      <td>GSE56772_HIP_BMS_ARRAYEXP</td>\n",
       "      <td>Hippocampus</td>\n",
       "      <td>Limbic system</td>\n",
       "      <td>Mouse/GSE56772/Results</td>\n",
       "      <td>GSE56772_HIP_BMS_ARRAYEXP_DblNegvsTg4510</td>\n",
       "      <td>&lt;h2&gt;Original dataset&lt;/h2&gt;&lt;p&gt;&lt;b&gt;Type of data:&lt;/...</td>\n",
       "      <td>GSE56772_HIP_BMS_ARRAYEXP_DblNegvsTg4510.csv</td>\n",
       "      <td>Tg4510|TTA alone| Double Negative (control)</td>\n",
       "      <td>DN-Tg4510</td>\n",
       "      <td>Double Negative vs Tg4510</td>\n",
       "      <td>22716</td>\n",
       "      <td>0</td>\n",
       "      <td>DblNeg:25 | Tg4510:26</td>\n",
       "      <td>GPL8759</td>\n",
       "      <td>Affymetrix HT Mouse Genome 430A Array</td>\n",
       "      <td>https://www.ncbi.nlm.nih.gov/geo/query/acc.cgi...</td>\n",
       "      <td>&lt;a href='http://www.alzforum.org/research-mode...</td>\n",
       "      <td>Wes PD, Easton A, Corradi JP, Barten DM, DeCar...</td>\n",
       "    </tr>\n",
       "    <tr>\n",
       "      <th>7</th>\n",
       "      <td>GSE56772</td>\n",
       "      <td>GSE56772_HIP_BMS_ARRAYEXP</td>\n",
       "      <td>Hippocampus</td>\n",
       "      <td>Limbic system</td>\n",
       "      <td>Mouse/GSE56772/Results</td>\n",
       "      <td>GSE56772_HIP_BMS_ARRAYEXP_DblNegvsTTAalone</td>\n",
       "      <td>&lt;h2&gt;Original dataset&lt;/h2&gt;&lt;p&gt;&lt;b&gt;Type of data:&lt;/...</td>\n",
       "      <td>GSE56772_HIP_BMS_ARRAYEXP_DblNegvsTTAalone.csv</td>\n",
       "      <td>Tg4510|TTA alone| Double Negative (control)</td>\n",
       "      <td>DN-TTA</td>\n",
       "      <td>Double Negative vs TTA Alone</td>\n",
       "      <td>22716</td>\n",
       "      <td>0</td>\n",
       "      <td>DblNeg:25 | TTAalone:25</td>\n",
       "      <td>GPL8759</td>\n",
       "      <td>Affymetrix HT Mouse Genome 430A Array</td>\n",
       "      <td>https://www.ncbi.nlm.nih.gov/geo/query/acc.cgi...</td>\n",
       "      <td>&lt;a href='http://www.alzforum.org/research-mode...</td>\n",
       "      <td>Wes PD, Easton A, Corradi JP, Barten DM, DeCar...</td>\n",
       "    </tr>\n",
       "    <tr>\n",
       "      <th>8</th>\n",
       "      <td>GSE56772</td>\n",
       "      <td>GSE56772_HIP_BMS_ARRAYEXP</td>\n",
       "      <td>Hippocampus</td>\n",
       "      <td>Limbic system</td>\n",
       "      <td>Mouse/GSE56772/Results</td>\n",
       "      <td>GSE56772_HIP_BMS_ARRAYEXP_Tg4510vsTTAalone</td>\n",
       "      <td>&lt;h2&gt;Original dataset&lt;/h2&gt;&lt;p&gt;&lt;b&gt;Type of data:&lt;/...</td>\n",
       "      <td>GSE56772_HIP_BMS_ARRAYEXP_Tg4510vsTTAalone.csv</td>\n",
       "      <td>Tg4510|TTA alone| Double Negative (control)</td>\n",
       "      <td>Tg4510-TTA</td>\n",
       "      <td>Tg4510 vs TTA Alone</td>\n",
       "      <td>22716</td>\n",
       "      <td>0</td>\n",
       "      <td>Tg4510:26 | TTAalone:25</td>\n",
       "      <td>GPL8759</td>\n",
       "      <td>Affymetrix HT Mouse Genome 430A Array</td>\n",
       "      <td>https://www.ncbi.nlm.nih.gov/geo/query/acc.cgi...</td>\n",
       "      <td>&lt;a href='http://www.alzforum.org/research-mode...</td>\n",
       "      <td>Wes PD, Easton A, Corradi JP, Barten DM, DeCar...</td>\n",
       "    </tr>\n",
       "    <tr>\n",
       "      <th>9</th>\n",
       "      <td>GSE56772</td>\n",
       "      <td>GSE65159_HIP_TSAI_RNASeq</td>\n",
       "      <td>Hippocampus</td>\n",
       "      <td>Limbic system</td>\n",
       "      <td>Mouse/GSE65159/Results</td>\n",
       "      <td>GSE65159_HIP_TSAI_RNASeq_CKp25_2wk-Control</td>\n",
       "      <td>&lt;h2&gt;Original dataset&lt;/h2&gt;&lt;p&gt;&lt;b&gt;Type of data:&lt;/...</td>\n",
       "      <td>GSE65159_HIP_TSAI_RNASeq_CKp25_2wk-Control.csv</td>\n",
       "      <td>CKp25 2 Weeks | CKp25 6 Weeks | Controls (2 an...</td>\n",
       "      <td>CKp25_2wks-Control</td>\n",
       "      <td>CKp25 2 Weeks Old vs Control</td>\n",
       "      <td>16303</td>\n",
       "      <td>21693</td>\n",
       "      <td>CKp25_2wk:3 | Control:6</td>\n",
       "      <td>GPL13112</td>\n",
       "      <td>Ilumina HiSeq 2000 (Mus musculus)</td>\n",
       "      <td>https://www.ncbi.nlm.nih.gov/geo/query/acc.cgi...</td>\n",
       "      <td>&lt;a href='http://tsailaboratory.mit.edu/researc...</td>\n",
       "      <td>Gjoneska E, Pfenning AR, Mathys H, Quon G et a...</td>\n",
       "    </tr>\n",
       "    <tr>\n",
       "      <th>10</th>\n",
       "      <td>GSE65159</td>\n",
       "      <td>GSE65159_HIP_TSAI_RNASeq</td>\n",
       "      <td>Hippocampus</td>\n",
       "      <td>Limbic system</td>\n",
       "      <td>Mouse/GSE65159/Results</td>\n",
       "      <td>GSE65159_HIP_TSAI_RNASeq_CKp25_6wk-Control</td>\n",
       "      <td>&lt;h2&gt;Original dataset&lt;/h2&gt;&lt;p&gt;&lt;b&gt;Type of data:&lt;/...</td>\n",
       "      <td>GSE65159_HIP_TSAI_RNASeq_CKp25_6wk-Control.csv</td>\n",
       "      <td>CKp25 2 Weeks | CKp25 6 Weeks | Control (2 and...</td>\n",
       "      <td>CKp25_6wks-Control</td>\n",
       "      <td>CKp25 6 Weeks Old vs Control</td>\n",
       "      <td>16226</td>\n",
       "      <td>21770</td>\n",
       "      <td>CKp25_6wk:3 | Control:6</td>\n",
       "      <td>GPL13112</td>\n",
       "      <td>Ilumina HiSeq 2000 (Mus musculus)</td>\n",
       "      <td>https://www.ncbi.nlm.nih.gov/geo/query/acc.cgi...</td>\n",
       "      <td>&lt;a href='http://tsailaboratory.mit.edu/researc...</td>\n",
       "      <td>Gjoneska E, Pfenning AR, Mathys H, Quon G et a...</td>\n",
       "    </tr>\n",
       "    <tr>\n",
       "      <th>11</th>\n",
       "      <td>GSE65159</td>\n",
       "      <td>GSE65159_HIP_TSAI_RNASeq</td>\n",
       "      <td>Hippocampus</td>\n",
       "      <td>Limbic system</td>\n",
       "      <td>Mouse/GSE65159/Results</td>\n",
       "      <td>GSE65159_HIP_TSAI_RNASeq_CKp25_62k-CKp25_2wk</td>\n",
       "      <td>&lt;h2&gt;Original dataset&lt;/h2&gt;&lt;p&gt;&lt;b&gt;Type of data:&lt;/...</td>\n",
       "      <td>GSE65159_HIP_TSAI_RNASeq_CKp25_62k-CKp25_2wk.csv</td>\n",
       "      <td>CKp25 2 Weeks | CKp25 6 Weeks | Control (2 and...</td>\n",
       "      <td>CKp25_6wks-CKp25_2wks</td>\n",
       "      <td>CKp25 6 Weeks Old vs CKp25 2 Weeks Old</td>\n",
       "      <td>16001</td>\n",
       "      <td>21995</td>\n",
       "      <td>CKp25_2wk:3| CKp25_6wk: 3</td>\n",
       "      <td>GPL13112</td>\n",
       "      <td>Ilumina HiSeq 2000 (Mus musculus)</td>\n",
       "      <td>https://www.ncbi.nlm.nih.gov/geo/query/acc.cgi...</td>\n",
       "      <td>&lt;a href='http://tsailaboratory.mit.edu/researc...</td>\n",
       "      <td>Gjoneska E, Pfenning AR, Mathys H, Quon G et a...</td>\n",
       "    </tr>\n",
       "    <tr>\n",
       "      <th>12</th>\n",
       "      <td>GSE57528</td>\n",
       "      <td>GSE57528_HIP_BMS_ARRAYEXP</td>\n",
       "      <td>Hippocampus</td>\n",
       "      <td>Limbic system</td>\n",
       "      <td>Mouse/GSE57528/Results</td>\n",
       "      <td>GSE57528_HIP_BMS_ARRAYEXP_DblNegvsTg4510</td>\n",
       "      <td>&lt;h2&gt;Original dataset&lt;/h2&gt;&lt;p&gt;&lt;b&gt;Type of data:&lt;/...</td>\n",
       "      <td>GSE57528_HIP_BMS_ARRAYEXP_DblNegvsTg4510_Mouse...</td>\n",
       "      <td>Tg4510 | TTA Alone | Double Negative (control)</td>\n",
       "      <td>DN-Tg4510</td>\n",
       "      <td>Double Negative vs Tg4510</td>\n",
       "      <td>22716</td>\n",
       "      <td>0</td>\n",
       "      <td>DblNeg: 18 | Tg4510: 18</td>\n",
       "      <td>GPL8759</td>\n",
       "      <td>Affymetrix HT Mouse Genome 430A Array</td>\n",
       "      <td>https://www.ncbi.nlm.nih.gov/geo/query/acc.cgi...</td>\n",
       "      <td>&lt;a href='http://www.alzforum.org/research-mode...</td>\n",
       "      <td>Wes PD, Easton A, Corradi JP, Barten DM, DeCar...</td>\n",
       "    </tr>\n",
       "    <tr>\n",
       "      <th>13</th>\n",
       "      <td>GSE57528</td>\n",
       "      <td>GSE57528_HIP_BMS_ARRAYEXP</td>\n",
       "      <td>Hippocampus</td>\n",
       "      <td>Limbic system</td>\n",
       "      <td>Mouse/GSE57528/Results</td>\n",
       "      <td>GSE57528_HIP_BMS_ARRAYEXP_DblNegvsTTAalone</td>\n",
       "      <td>&lt;h2&gt;Original dataset&lt;/h2&gt;&lt;p&gt;&lt;b&gt;Type of data:&lt;/...</td>\n",
       "      <td>GSE57528_HIP_BMS_ARRAYEXP_DblNegvsTTAalone_Mou...</td>\n",
       "      <td>Tg4510 | TTA Alone | Double Negative (control)</td>\n",
       "      <td>DN-TTA</td>\n",
       "      <td>Double Negative vs TTA alone</td>\n",
       "      <td>22716</td>\n",
       "      <td>0</td>\n",
       "      <td>DblNeg:18 | TTAalone:15</td>\n",
       "      <td>GPL8759</td>\n",
       "      <td>Affymetrix HT Mouse Genome 430A Array</td>\n",
       "      <td>https://www.ncbi.nlm.nih.gov/geo/query/acc.cgi...</td>\n",
       "      <td>&lt;a href='http://www.alzforum.org/research-mode...</td>\n",
       "      <td>Wes PD, Easton A, Corradi JP, Barten DM, DeCar...</td>\n",
       "    </tr>\n",
       "    <tr>\n",
       "      <th>14</th>\n",
       "      <td>GSE57528</td>\n",
       "      <td>GSE57528_HIP_BMS_ARRAYEXP</td>\n",
       "      <td>Hippocampus</td>\n",
       "      <td>Limbic system</td>\n",
       "      <td>Mouse/GSE57528/Results</td>\n",
       "      <td>GSE57528_HIP_BMS_ARRAYEXP_Tg4510vsTTAalone</td>\n",
       "      <td>&lt;h2&gt;Original dataset&lt;/h2&gt;&lt;p&gt;&lt;b&gt;Type of data:&lt;/...</td>\n",
       "      <td>GSE57528_HIP_BMS_ARRAYEXP_Tg4510vsTTAalone_Mou...</td>\n",
       "      <td>Tg4510 | TTA Alone | Double Negative (control)</td>\n",
       "      <td>Tg4510-TTA</td>\n",
       "      <td>Tg4510 vs TTA alone</td>\n",
       "      <td>22716</td>\n",
       "      <td>0</td>\n",
       "      <td>Tg4510:18 | TTAalone:15</td>\n",
       "      <td>GPL8759</td>\n",
       "      <td>Affymetrix HT Mouse Genome 430A Array</td>\n",
       "      <td>https://www.ncbi.nlm.nih.gov/geo/query/acc.cgi...</td>\n",
       "      <td>&lt;a href='http://www.alzforum.org/research-mode...</td>\n",
       "      <td>Wes PD, Easton A, Corradi JP, Barten DM, DeCar...</td>\n",
       "    </tr>\n",
       "    <tr>\n",
       "      <th>15</th>\n",
       "      <td>GSE9566</td>\n",
       "      <td>GSE9566_FB_BARRES_ARRAYEXP</td>\n",
       "      <td>Forebrain</td>\n",
       "      <td>Frontal Lobe</td>\n",
       "      <td>Mouse/GSE9566/Results</td>\n",
       "      <td>GSE9566_FB_BARRES_ARRAYEXP_AstrosvsAll</td>\n",
       "      <td>&lt;h2&gt;Original dataset&lt;/h2&gt;&lt;p&gt;&lt;b&gt;Type of data:&lt;/...</td>\n",
       "      <td>GSE9566_FB_BARRES_ARRAYEXP_AstrosvsAll.csv</td>\n",
       "      <td>Astrocytes | Neurons | Oligodendrocytes</td>\n",
       "      <td>Astros-Control</td>\n",
       "      <td>Astrocytes vs Nuerons and Oligodendrocytes</td>\n",
       "      <td>45101</td>\n",
       "      <td>0</td>\n",
       "      <td>Astrocytes: 10 | Controls: 28</td>\n",
       "      <td>GPL1261</td>\n",
       "      <td>Affymetrix Mouse Genome 430 2.0 Array</td>\n",
       "      <td>https://www.ncbi.nlm.nih.gov/geo/query/acc.cgi...</td>\n",
       "      <td>S100β-EGFP mice</td>\n",
       "      <td>Cahoy JD, Emery B, Kaushal A, Foo LC et al. A ...</td>\n",
       "    </tr>\n",
       "    <tr>\n",
       "      <th>16</th>\n",
       "      <td>GSE9566</td>\n",
       "      <td>GSE9566_FB_BARRES_ARRAYEXP</td>\n",
       "      <td>Forebrain</td>\n",
       "      <td>Frontal Lobe</td>\n",
       "      <td>Mouse/GSE9566/Results</td>\n",
       "      <td>GSE9566_FB_BARRES_ARRAYEXP_NeuronsvsAll</td>\n",
       "      <td>&lt;h2&gt;Original dataset&lt;/h2&gt;&lt;p&gt;&lt;b&gt;Type of data:&lt;/...</td>\n",
       "      <td>GSE9566_FB_BARRES_ARRAYEXP_NeuronsvsAll.csv</td>\n",
       "      <td>Astrocytes | Neurons | Oligodendrocytes</td>\n",
       "      <td>Neurons-Control</td>\n",
       "      <td>Neurons vs Astrocytes and Oligodendrocytes</td>\n",
       "      <td>45101</td>\n",
       "      <td>0</td>\n",
       "      <td>Neurons: 7 | Controls: 31</td>\n",
       "      <td>GPL1261</td>\n",
       "      <td>Affymetrix Mouse Genome 430 2.0 Array</td>\n",
       "      <td>https://www.ncbi.nlm.nih.gov/geo/query/acc.cgi...</td>\n",
       "      <td>S100β-EGFP mice</td>\n",
       "      <td>Cahoy JD, Emery B, Kaushal A, Foo LC et al. A ...</td>\n",
       "    </tr>\n",
       "    <tr>\n",
       "      <th>17</th>\n",
       "      <td>GSE9566</td>\n",
       "      <td>GSE9566_FB_BARRES_ARRAYEXP</td>\n",
       "      <td>Forebrain</td>\n",
       "      <td>Frontal Lobe</td>\n",
       "      <td>Mouse/GSE9566/Results</td>\n",
       "      <td>GSE9566_FB_BARRES_ARRAYEXP_OLsvsAll</td>\n",
       "      <td>&lt;h2&gt;Original dataset&lt;/h2&gt;&lt;p&gt;&lt;b&gt;Type of data:&lt;/...</td>\n",
       "      <td>GSE9566_FB_BARRES_ARRAYEXP_OLsvsAll.csv</td>\n",
       "      <td>Astrocytes | Neurons | Oligodendrocytes</td>\n",
       "      <td>Ols-Control</td>\n",
       "      <td>Oligodendrocytes vs Astrocytes and Neurons</td>\n",
       "      <td>45101</td>\n",
       "      <td>0</td>\n",
       "      <td>Oligodendrocytes: 10 | Controls: 28</td>\n",
       "      <td>GPL1261</td>\n",
       "      <td>Affymetrix Mouse Genome 430 2.0 Array</td>\n",
       "      <td>https://www.ncbi.nlm.nih.gov/geo/query/acc.cgi...</td>\n",
       "      <td>S100β-EGFP mice</td>\n",
       "      <td>Cahoy JD, Emery B, Kaushal A, Foo LC et al. A ...</td>\n",
       "    </tr>\n",
       "  </tbody>\n",
       "</table>\n",
       "</div>"
      ],
      "text/plain": [
       "   DatasetCode                 DatasetName        BrainRegion  \\\n",
       "1      GDS4414  GDS4414_PFC_AYDIN_ARRAYEXP  Prefrontal Cortex   \n",
       "2      GDS4414  GDS4414_PFC_AYDIN_ARRAYEXP  Prefrontal Cortex   \n",
       "3     GSE57583   GSE57583_HIP_BMS_ARRAYEXP        Hippocampus   \n",
       "4     GSE57583   GSE57583_HIP_BMS_ARRAYEXP        Hippocampus   \n",
       "5     GSE57583   GSE57583_HIP_BMS_ARRAYEXP        Hippocampus   \n",
       "6     GSE56772   GSE56772_HIP_BMS_ARRAYEXP        Hippocampus   \n",
       "7     GSE56772   GSE56772_HIP_BMS_ARRAYEXP        Hippocampus   \n",
       "8     GSE56772   GSE56772_HIP_BMS_ARRAYEXP        Hippocampus   \n",
       "9     GSE56772    GSE65159_HIP_TSAI_RNASeq        Hippocampus   \n",
       "10    GSE65159    GSE65159_HIP_TSAI_RNASeq        Hippocampus   \n",
       "11    GSE65159    GSE65159_HIP_TSAI_RNASeq        Hippocampus   \n",
       "12    GSE57528   GSE57528_HIP_BMS_ARRAYEXP        Hippocampus   \n",
       "13    GSE57528   GSE57528_HIP_BMS_ARRAYEXP        Hippocampus   \n",
       "14    GSE57528   GSE57528_HIP_BMS_ARRAYEXP        Hippocampus   \n",
       "15     GSE9566  GSE9566_FB_BARRES_ARRAYEXP          Forebrain   \n",
       "16     GSE9566  GSE9566_FB_BARRES_ARRAYEXP          Forebrain   \n",
       "17     GSE9566  GSE9566_FB_BARRES_ARRAYEXP          Forebrain   \n",
       "\n",
       "   ClusteredBrainRegion                  Folder  \\\n",
       "1          Frontal Lobe   Mouse/GDS4414/Results   \n",
       "2          Frontal Lobe   Mouse/GDS4414/Results   \n",
       "3         Limbic system  Mouse/GSE57583/Results   \n",
       "4         Limbic system  Mouse/GSE57583/Results   \n",
       "5         Limbic system  Mouse/GSE57583/Results   \n",
       "6         Limbic system  Mouse/GSE56772/Results   \n",
       "7         Limbic system  Mouse/GSE56772/Results   \n",
       "8         Limbic system  Mouse/GSE56772/Results   \n",
       "9         Limbic system  Mouse/GSE65159/Results   \n",
       "10        Limbic system  Mouse/GSE65159/Results   \n",
       "11        Limbic system  Mouse/GSE65159/Results   \n",
       "12        Limbic system  Mouse/GSE57528/Results   \n",
       "13        Limbic system  Mouse/GSE57528/Results   \n",
       "14        Limbic system  Mouse/GSE57528/Results   \n",
       "15         Frontal Lobe   Mouse/GSE9566/Results   \n",
       "16         Frontal Lobe   Mouse/GSE9566/Results   \n",
       "17         Frontal Lobe   Mouse/GSE9566/Results   \n",
       "\n",
       "                                           Title  \\\n",
       "1            GDS4414_PFC_AYDIN_ARRAYEXP_APPko_WT   \n",
       "2          GDS4414_PFC_AYDIN_ARRAYEXP_APPsaki_WT   \n",
       "3       GSE57583_HIP_BMS_ARRAYEXP_DblNegvsTg4510   \n",
       "4     GSE57583_HIP_BMS_ARRAYEXP_DblNegvsTTAalone   \n",
       "5     GSE57583_HIP_BMS_ARRAYEXP_Tg4510vsTTAalone   \n",
       "6       GSE56772_HIP_BMS_ARRAYEXP_DblNegvsTg4510   \n",
       "7     GSE56772_HIP_BMS_ARRAYEXP_DblNegvsTTAalone   \n",
       "8     GSE56772_HIP_BMS_ARRAYEXP_Tg4510vsTTAalone   \n",
       "9     GSE65159_HIP_TSAI_RNASeq_CKp25_2wk-Control   \n",
       "10    GSE65159_HIP_TSAI_RNASeq_CKp25_6wk-Control   \n",
       "11  GSE65159_HIP_TSAI_RNASeq_CKp25_62k-CKp25_2wk   \n",
       "12      GSE57528_HIP_BMS_ARRAYEXP_DblNegvsTg4510   \n",
       "13    GSE57528_HIP_BMS_ARRAYEXP_DblNegvsTTAalone   \n",
       "14    GSE57528_HIP_BMS_ARRAYEXP_Tg4510vsTTAalone   \n",
       "15        GSE9566_FB_BARRES_ARRAYEXP_AstrosvsAll   \n",
       "16       GSE9566_FB_BARRES_ARRAYEXP_NeuronsvsAll   \n",
       "17           GSE9566_FB_BARRES_ARRAYEXP_OLsvsAll   \n",
       "\n",
       "                                           HtmlMethod  \\\n",
       "1   <h2>Original dataset</h2><p><b>Type of data:</...   \n",
       "2   <h2>Original dataset</h2><p><b>Type of data:</...   \n",
       "3   <h2>Original dataset</h2><p><b>Type of data:</...   \n",
       "4   <h2>Original dataset</h2><p><b>Type of data:</...   \n",
       "5   <h2>Original dataset</h2><p><b>Type of data:</...   \n",
       "6   <h2>Original dataset</h2><p><b>Type of data:</...   \n",
       "7   <h2>Original dataset</h2><p><b>Type of data:</...   \n",
       "8   <h2>Original dataset</h2><p><b>Type of data:</...   \n",
       "9   <h2>Original dataset</h2><p><b>Type of data:</...   \n",
       "10  <h2>Original dataset</h2><p><b>Type of data:</...   \n",
       "11  <h2>Original dataset</h2><p><b>Type of data:</...   \n",
       "12  <h2>Original dataset</h2><p><b>Type of data:</...   \n",
       "13  <h2>Original dataset</h2><p><b>Type of data:</...   \n",
       "14  <h2>Original dataset</h2><p><b>Type of data:</...   \n",
       "15  <h2>Original dataset</h2><p><b>Type of data:</...   \n",
       "16  <h2>Original dataset</h2><p><b>Type of data:</...   \n",
       "17  <h2>Original dataset</h2><p><b>Type of data:</...   \n",
       "\n",
       "                                             FileName  \\\n",
       "1             GDS4414_PFC_AYDIN_ARRAYEXP_APPko_WT.csv   \n",
       "2           GDS4414_PFC_AYDIN_ARRAYEXP_APPsaki_WT.csv   \n",
       "3        GSE57583_HIP_BMS_ARRAYEXP_DblNegvsTg4510.csv   \n",
       "4      GSE57583_HIP_BMS_ARRAYEXP_DblNegvsTTAalone.csv   \n",
       "5      GSE57583_HIP_BMS_ARRAYEXP_Tg4510vsTTAalone.csv   \n",
       "6        GSE56772_HIP_BMS_ARRAYEXP_DblNegvsTg4510.csv   \n",
       "7      GSE56772_HIP_BMS_ARRAYEXP_DblNegvsTTAalone.csv   \n",
       "8      GSE56772_HIP_BMS_ARRAYEXP_Tg4510vsTTAalone.csv   \n",
       "9      GSE65159_HIP_TSAI_RNASeq_CKp25_2wk-Control.csv   \n",
       "10     GSE65159_HIP_TSAI_RNASeq_CKp25_6wk-Control.csv   \n",
       "11   GSE65159_HIP_TSAI_RNASeq_CKp25_62k-CKp25_2wk.csv   \n",
       "12  GSE57528_HIP_BMS_ARRAYEXP_DblNegvsTg4510_Mouse...   \n",
       "13  GSE57528_HIP_BMS_ARRAYEXP_DblNegvsTTAalone_Mou...   \n",
       "14  GSE57528_HIP_BMS_ARRAYEXP_Tg4510vsTTAalone_Mou...   \n",
       "15         GSE9566_FB_BARRES_ARRAYEXP_AstrosvsAll.csv   \n",
       "16        GSE9566_FB_BARRES_ARRAYEXP_NeuronsvsAll.csv   \n",
       "17            GSE9566_FB_BARRES_ARRAYEXP_OLsvsAll.csv   \n",
       "\n",
       "                                          StratFactor            Peturbation  \\\n",
       "1                        APLP2ko|APPko|APPsα|WildType               APPKO-WT   \n",
       "2                        APLP2ko|APPko|APPsα|WildType               APPsa-WT   \n",
       "3         Tg4510|TTA alone| Double Negative (control)              DN-Tg4510   \n",
       "4         Tg4510|TTA alone| Double Negative (control)                 DN-TTA   \n",
       "5         Tg4510|TTA alone| Double Negative (control)             Tg4510-TTA   \n",
       "6         Tg4510|TTA alone| Double Negative (control)              DN-Tg4510   \n",
       "7         Tg4510|TTA alone| Double Negative (control)                 DN-TTA   \n",
       "8         Tg4510|TTA alone| Double Negative (control)             Tg4510-TTA   \n",
       "9   CKp25 2 Weeks | CKp25 6 Weeks | Controls (2 an...     CKp25_2wks-Control   \n",
       "10  CKp25 2 Weeks | CKp25 6 Weeks | Control (2 and...     CKp25_6wks-Control   \n",
       "11  CKp25 2 Weeks | CKp25 6 Weeks | Control (2 and...  CKp25_6wks-CKp25_2wks   \n",
       "12     Tg4510 | TTA Alone | Double Negative (control)              DN-Tg4510   \n",
       "13     Tg4510 | TTA Alone | Double Negative (control)                 DN-TTA   \n",
       "14     Tg4510 | TTA Alone | Double Negative (control)             Tg4510-TTA   \n",
       "15            Astrocytes | Neurons | Oligodendrocytes         Astros-Control   \n",
       "16            Astrocytes | Neurons | Oligodendrocytes        Neurons-Control   \n",
       "17            Astrocytes | Neurons | Oligodendrocytes            Ols-Control   \n",
       "\n",
       "                                      Contrast  Ngenes  Nexcluded  \\\n",
       "1                    APP KnockOut vs Wild Type   45101          0   \n",
       "2                   APPsα Knockin vs Wild Type   45101          0   \n",
       "3                    Double Negative vs Tg4510   22716          0   \n",
       "4                 Double Negative vs TTA Alone   22716          0   \n",
       "5                             Tg4510vsTTAalone   22716          0   \n",
       "6                    Double Negative vs Tg4510   22716          0   \n",
       "7                 Double Negative vs TTA Alone   22716          0   \n",
       "8                          Tg4510 vs TTA Alone   22716          0   \n",
       "9                 CKp25 2 Weeks Old vs Control   16303      21693   \n",
       "10                CKp25 6 Weeks Old vs Control   16226      21770   \n",
       "11      CKp25 6 Weeks Old vs CKp25 2 Weeks Old   16001      21995   \n",
       "12                   Double Negative vs Tg4510   22716          0   \n",
       "13                Double Negative vs TTA alone   22716          0   \n",
       "14                         Tg4510 vs TTA alone   22716          0   \n",
       "15  Astrocytes vs Nuerons and Oligodendrocytes   45101          0   \n",
       "16  Neurons vs Astrocytes and Oligodendrocytes   45101          0   \n",
       "17  Oligodendrocytes vs Astrocytes and Neurons   45101          0   \n",
       "\n",
       "                   Subject Distrobution       GPL  \\\n",
       "1                         APPko:3| WT:3   GPL1261   \n",
       "2                        APPsα:3 | WT:3   GPL1261   \n",
       "3                 DblNeg:17 | Tg4510:17   GPL8759   \n",
       "4               DblNeg:17 | TTAalone:15   GPL8759   \n",
       "5               Tg4510:17 | TTAalone:15   GPL8759   \n",
       "6                 DblNeg:25 | Tg4510:26   GPL8759   \n",
       "7               DblNeg:25 | TTAalone:25   GPL8759   \n",
       "8               Tg4510:26 | TTAalone:25   GPL8759   \n",
       "9               CKp25_2wk:3 | Control:6  GPL13112   \n",
       "10              CKp25_6wk:3 | Control:6  GPL13112   \n",
       "11            CKp25_2wk:3| CKp25_6wk: 3  GPL13112   \n",
       "12              DblNeg: 18 | Tg4510: 18   GPL8759   \n",
       "13              DblNeg:18 | TTAalone:15   GPL8759   \n",
       "14              Tg4510:18 | TTAalone:15   GPL8759   \n",
       "15        Astrocytes: 10 | Controls: 28  GPL1261    \n",
       "16            Neurons: 7 | Controls: 31  GPL1261    \n",
       "17  Oligodendrocytes: 10 | Controls: 28  GPL1261    \n",
       "\n",
       "                                 Platform  \\\n",
       "1   Affymetrix Mouse Genome 430 2.0 Array   \n",
       "2   Affymetrix Mouse Genome 430 2.0 Array   \n",
       "3   Affymetrix HT Mouse Genome 430A Array   \n",
       "4   Affymetrix HT Mouse Genome 430A Array   \n",
       "5   Affymetrix HT Mouse Genome 430A Array   \n",
       "6   Affymetrix HT Mouse Genome 430A Array   \n",
       "7   Affymetrix HT Mouse Genome 430A Array   \n",
       "8   Affymetrix HT Mouse Genome 430A Array   \n",
       "9       Ilumina HiSeq 2000 (Mus musculus)   \n",
       "10      Ilumina HiSeq 2000 (Mus musculus)   \n",
       "11      Ilumina HiSeq 2000 (Mus musculus)   \n",
       "12  Affymetrix HT Mouse Genome 430A Array   \n",
       "13  Affymetrix HT Mouse Genome 430A Array   \n",
       "14  Affymetrix HT Mouse Genome 430A Array   \n",
       "15  Affymetrix Mouse Genome 430 2.0 Array   \n",
       "16  Affymetrix Mouse Genome 430 2.0 Array   \n",
       "17  Affymetrix Mouse Genome 430 2.0 Array   \n",
       "\n",
       "                                        Platform Link  \\\n",
       "1   https://www.ncbi.nlm.nih.gov/geo/query/acc.cgi...   \n",
       "2   https://www.ncbi.nlm.nih.gov/geo/query/acc.cgi...   \n",
       "3   https://www.ncbi.nlm.nih.gov/geo/query/acc.cgi...   \n",
       "4   https://www.ncbi.nlm.nih.gov/geo/query/acc.cgi...   \n",
       "5   https://www.ncbi.nlm.nih.gov/geo/query/acc.cgi...   \n",
       "6   https://www.ncbi.nlm.nih.gov/geo/query/acc.cgi...   \n",
       "7   https://www.ncbi.nlm.nih.gov/geo/query/acc.cgi...   \n",
       "8   https://www.ncbi.nlm.nih.gov/geo/query/acc.cgi...   \n",
       "9   https://www.ncbi.nlm.nih.gov/geo/query/acc.cgi...   \n",
       "10  https://www.ncbi.nlm.nih.gov/geo/query/acc.cgi...   \n",
       "11  https://www.ncbi.nlm.nih.gov/geo/query/acc.cgi...   \n",
       "12  https://www.ncbi.nlm.nih.gov/geo/query/acc.cgi...   \n",
       "13  https://www.ncbi.nlm.nih.gov/geo/query/acc.cgi...   \n",
       "14  https://www.ncbi.nlm.nih.gov/geo/query/acc.cgi...   \n",
       "15  https://www.ncbi.nlm.nih.gov/geo/query/acc.cgi...   \n",
       "16  https://www.ncbi.nlm.nih.gov/geo/query/acc.cgi...   \n",
       "17  https://www.ncbi.nlm.nih.gov/geo/query/acc.cgi...   \n",
       "\n",
       "                                    Model Description  \\\n",
       "1   <a href='http://www.alzforum.org/research-mode...   \n",
       "2   <a href='http://www.alzforum.org/research-mode...   \n",
       "3   <a href='http://www.alzforum.org/research-mode...   \n",
       "4   <a href='http://www.alzforum.org/research-mode...   \n",
       "5   <a href='http://www.alzforum.org/research-mode...   \n",
       "6   <a href='http://www.alzforum.org/research-mode...   \n",
       "7   <a href='http://www.alzforum.org/research-mode...   \n",
       "8   <a href='http://www.alzforum.org/research-mode...   \n",
       "9   <a href='http://tsailaboratory.mit.edu/researc...   \n",
       "10  <a href='http://tsailaboratory.mit.edu/researc...   \n",
       "11  <a href='http://tsailaboratory.mit.edu/researc...   \n",
       "12  <a href='http://www.alzforum.org/research-mode...   \n",
       "13  <a href='http://www.alzforum.org/research-mode...   \n",
       "14  <a href='http://www.alzforum.org/research-mode...   \n",
       "15                                    S100β-EGFP mice   \n",
       "16                                    S100β-EGFP mice   \n",
       "17                                    S100β-EGFP mice   \n",
       "\n",
       "                                      Acknowledgement  \n",
       "1   Aydin D, Filippov MA, Tschäpe JA, Gretz N et a...  \n",
       "2   Aydin D, Filippov MA, Tschäpe JA, Gretz N et a...  \n",
       "3   Wes PD, Easton A, Corradi JP, Barten DM, DeCar...  \n",
       "4   Wes PD, Easton A, Corradi JP, Barten DM, DeCar...  \n",
       "5   Wes PD, Easton A, Corradi JP, Barten DM, DeCar...  \n",
       "6   Wes PD, Easton A, Corradi JP, Barten DM, DeCar...  \n",
       "7   Wes PD, Easton A, Corradi JP, Barten DM, DeCar...  \n",
       "8   Wes PD, Easton A, Corradi JP, Barten DM, DeCar...  \n",
       "9   Gjoneska E, Pfenning AR, Mathys H, Quon G et a...  \n",
       "10  Gjoneska E, Pfenning AR, Mathys H, Quon G et a...  \n",
       "11  Gjoneska E, Pfenning AR, Mathys H, Quon G et a...  \n",
       "12  Wes PD, Easton A, Corradi JP, Barten DM, DeCar...  \n",
       "13  Wes PD, Easton A, Corradi JP, Barten DM, DeCar...  \n",
       "14  Wes PD, Easton A, Corradi JP, Barten DM, DeCar...  \n",
       "15  Cahoy JD, Emery B, Kaushal A, Foo LC et al. A ...  \n",
       "16  Cahoy JD, Emery B, Kaushal A, Foo LC et al. A ...  \n",
       "17  Cahoy JD, Emery B, Kaushal A, Foo LC et al. A ...  "
      ]
     },
     "execution_count": 41,
     "metadata": {},
     "output_type": "execute_result"
    }
   ],
   "source": [
    "myFrame[1:]"
   ]
  },
  {
   "cell_type": "code",
   "execution_count": null,
   "metadata": {
    "collapsed": true
   },
   "outputs": [],
   "source": []
  }
 ],
 "metadata": {
  "kernelspec": {
   "display_name": "Python 3",
   "language": "python",
   "name": "python3"
  },
  "language_info": {
   "codemirror_mode": {
    "name": "ipython",
    "version": 3
   },
   "file_extension": ".py",
   "mimetype": "text/x-python",
   "name": "python",
   "nbconvert_exporter": "python",
   "pygments_lexer": "ipython3",
   "version": "3.6.0"
  }
 },
 "nbformat": 4,
 "nbformat_minor": 2
}
